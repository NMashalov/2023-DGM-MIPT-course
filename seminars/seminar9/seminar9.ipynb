{
 "cells": [
  {
   "cell_type": "code",
   "execution_count": 1,
   "id": "opening-serbia",
   "metadata": {
    "tags": []
   },
   "outputs": [],
   "source": [
    "%load_ext autoreload\n",
    "%autoreload 2"
   ]
  },
  {
   "cell_type": "code",
   "execution_count": 2,
   "id": "outdoor-rescue",
   "metadata": {
    "tags": []
   },
   "outputs": [],
   "source": [
    "from time import time\n",
    "\n",
    "import torch\n",
    "import torch.optim as optim\n",
    "import torch.nn as nn\n",
    "import torch.utils.data as data\n",
    "import torch.nn.functional as F\n",
    "import torch.distributions as TD\n",
    "\n",
    "import numpy as np\n",
    "from matplotlib import pyplot as plt\n",
    "\n",
    "import sys\n",
    "sys.path.append('../../homeworks') # to grab dgm_utils from ../../homeworks directory\n",
    "from tqdm.notebook import tqdm\n",
    "\n",
    "if torch.cuda.is_available():\n",
    "    DEVICE = 'cuda'\n",
    "    GPU_DEVICE = 1\n",
    "    torch.cuda.set_device(GPU_DEVICE)\n",
    "else:\n",
    "    DEVICE='cpu'\n",
    "# DEVICE='cpu'\n",
    "\n",
    "import warnings\n",
    "warnings.filterwarnings('ignore')\n",
    "\n",
    "# dgm_utils\n",
    "from dgm_utils import train_model, show_samples, visualize_images\n",
    "from dgm_utils import visualize_2d_samples, visualize_2d_densities, visualize_2d_data\n",
    "\n",
    "def reset_seed():\n",
    "    OUTPUT_SEED = 0xBADBEEF\n",
    "    torch.manual_seed(OUTPUT_SEED)\n",
    "    np.random.seed(OUTPUT_SEED)\n",
    "\n",
    "reset_seed()"
   ]
  },
  {
   "cell_type": "markdown",
   "id": "c7b85505-f773-4119-a16e-ac67c7adf8b1",
   "metadata": {},
   "source": [
    "# <center>Deep Generative Models</center>\n",
    "## <center>Seminar 9</center>\n",
    "\n",
    "<center><img src=\"pics/mipt_logo.png\" width=600 /></center>\n",
    "<center>31.10.2023</center>\n"
   ]
  },
  {
   "cell_type": "markdown",
   "id": "e5ceff32-7713-4ed6-bbc6-28c5d97c0d33",
   "metadata": {},
   "source": [
    "## Plan\n",
    "\n",
    "1. Wasserstein GANs on multimodal 2D data\n",
    "     \n",
    "     - Vanilla GAN\n",
    "     \n",
    "     - WGAN\n",
    "     \n",
    "     - WGAN-GP\n",
    "     \n",
    "     - SNGAN\n",
    "\n",
    "2. GANs zoo\n",
    "\n",
    "3. Evolution of GANs\n",
    "\n",
    "4. StyleGAN details"
   ]
  },
  {
   "cell_type": "markdown",
   "id": "243555e8-aa39-4a76-b7b4-f443b738595d",
   "metadata": {},
   "source": [
    "## Vanilla GAN,  WGAN and WGAN-GP on 2D data"
   ]
  },
  {
   "cell_type": "code",
   "execution_count": 3,
   "id": "84e5957a-d855-4081-9563-0e5c2afc30e2",
   "metadata": {
    "tags": []
   },
   "outputs": [],
   "source": [
    "def generate_2d_data(size, var=0.02):\n",
    "    scale = 2\n",
    "    centers = [\n",
    "        (1, 0),\n",
    "        (-1, 0),\n",
    "        (0, 1),\n",
    "        (0, -1),\n",
    "        (1. / np.sqrt(2), 1. / np.sqrt(2)),\n",
    "        (1. / np.sqrt(2), -1. / np.sqrt(2)),\n",
    "        (-1. / np.sqrt(2), 1. / np.sqrt(2)),\n",
    "        (-1. / np.sqrt(2), -1. / np.sqrt(2))\n",
    "    ]\n",
    "\n",
    "    centers = [(scale * x, scale * y) for x, y in centers]\n",
    "    dataset = []\n",
    "\n",
    "    for i in range(size):\n",
    "        point = np.random.randn(2) * var\n",
    "        center = centers[np.random.choice(np.arange(len(centers)))]\n",
    "        point[0] += center[0]\n",
    "        point[1] += center[1]\n",
    "        dataset.append(point)\n",
    "\n",
    "    dataset = np.array(dataset, dtype='float32')\n",
    "    dataset /= 1.414  # stdev\n",
    "\n",
    "    return dataset"
   ]
  },
  {
   "cell_type": "code",
   "execution_count": 4,
   "id": "befb901c-5cb8-4001-a064-773d89b02472",
   "metadata": {
    "tags": []
   },
   "outputs": [
    {
     "data": {
      "image/png": "[encoded data removed]",
      "text/plain": [
       "<Figure size 500x500 with 1 Axes>"
      ]
     },
     "metadata": {},
     "output_type": "display_data"
    }
   ],
   "source": [
    "reset_seed()\n",
    "COUNT = 20000\n",
    "\n",
    "train_data = generate_2d_data(COUNT, var=0.08) # 0.02, 0.1, 0.4\n",
    "visualize_2d_samples(train_data, \"Train data\")"
   ]
  },
  {
   "cell_type": "markdown",
   "id": "78c41590-21fb-45ff-978c-a649bf16c09d",
   "metadata": {},
   "source": [
    "Visualization functions"
   ]
  },
  {
   "cell_type": "code",
   "execution_count": 6,
   "id": "551d7b72-8efd-45c5-8972-49f256fc642d",
   "metadata": {
    "tags": []
   },
   "outputs": [],
   "source": [
    "from seminar9_utils import make_inference, visualize_GAN_output\n",
    "\n",
    "def plot_losses(losses, title):\n",
    "    n_itr = len(losses)\n",
    "    xs = np.arange(n_itr)\n",
    "\n",
    "    plt.figure(figsize=(7, 5))\n",
    "    plt.plot(xs, losses)\n",
    "    plt.title(title, fontsize=14)\n",
    "    plt.xlabel('Iterations', fontsize=14)\n",
    "    plt.ylabel('Loss', fontsize=14)\n",
    "\n",
    "    plt.xticks(fontsize=12)\n",
    "    plt.yticks(fontsize=12)\n",
    "    plt.show()"
   ]
  },
  {
   "cell_type": "markdown",
   "id": "systematic-alarm",
   "metadata": {},
   "source": [
    "# Vanilla GAN"
   ]
  },
  {
   "cell_type": "markdown",
   "id": "advanced-national",
   "metadata": {},
   "source": [
    "<img src=\"pics/gan_objective.jpg\" width=800 height=800 />"
   ]
  },
  {
   "cell_type": "code",
   "execution_count": 7,
   "id": "e53f2a0e-1431-4453-899c-742875f5cdec",
   "metadata": {
    "tags": []
   },
   "outputs": [],
   "source": [
    "from seminar9_utils import FullyConnectedMLP"
   ]
  },
  {
   "cell_type": "markdown",
   "id": "a10e5111-d13c-4db1-89b6-35700e7ba0a3",
   "metadata": {},
   "source": [
    "`GAN` generator"
   ]
  },
  {
   "cell_type": "code",
   "execution_count": 8,
   "id": "12d7b3e4-c72f-46d4-8f7e-6e53f7faf186",
   "metadata": {
    "tags": []
   },
   "outputs": [],
   "source": [
    "class MLPGenerator(FullyConnectedMLP):\n",
    "\n",
    "    def sample(self, n):\n",
    "        z = torch.randn(size=(n, self.input_dim)).to(\n",
    "            next(iter(self.parameters())))\n",
    "        return self.forward(z)"
   ]
  },
  {
   "cell_type": "markdown",
   "id": "ba2577fc-d94d-4d6e-b980-643053806ba3",
   "metadata": {},
   "source": [
    "`GAN` discriminator"
   ]
  },
  {
   "cell_type": "code",
   "execution_count": 9,
   "id": "89e8a699-ca47-430c-ad73-bd5e58a8e896",
   "metadata": {
    "tags": []
   },
   "outputs": [],
   "source": [
    "class MLPDiscriminator(FullyConnectedMLP):\n",
    "\n",
    "    pass"
   ]
  },
  {
   "cell_type": "markdown",
   "id": "f859de1f-eb88-48b3-8948-2be8eead1c68",
   "metadata": {},
   "source": [
    "`GAN` training loop"
   ]
  },
  {
   "cell_type": "code",
   "execution_count": 10,
   "id": "3aaa997f-1466-4a52-a3ad-27338dce7e38",
   "metadata": {
    "tags": []
   },
   "outputs": [],
   "source": [
    "def train_gan(\n",
    "    generator, \n",
    "    discriminator, \n",
    "    train_loader,\n",
    "    discriminator_steps, \n",
    "    batch_size,\n",
    "    n_epochs,\n",
    "    lr,\n",
    "    visualize_steps=10):\n",
    "\n",
    "    # \\beta_1 = 0 !!!\n",
    "    gen_optimizer = torch.optim.Adam(generator.parameters(), lr=lr, betas=(0, 0.9))\n",
    "    discriminator_optimizer = torch.optim.Adam(discriminator.parameters(), lr=lr, betas=(0, 0.9))\n",
    "\n",
    "    generator.train()\n",
    "    discriminator.train()\n",
    "\n",
    "    curr_iter = 0\n",
    "    d_loss, g_loss = torch.zeros(1), torch.zeros(1)\n",
    "    batch_loss_history = {'discriminator_losses': [], 'generator_losses': []}\n",
    "\n",
    "    for epoch_i in tqdm(range(n_epochs)):\n",
    "        for (batch_i, real_data) in enumerate(train_loader):\n",
    "            curr_iter += 1\n",
    "            real_data = real_data.to(DEVICE)\n",
    "\n",
    "            # DISCRIMINATOR UPDATE\n",
    "            with torch.no_grad():\n",
    "                fake_data = generator.sample(real_data.shape[0])\n",
    "\n",
    "            real_scores = discriminator(real_data)\n",
    "            real_predict = F.softplus(- real_scores).mean()\n",
    "            fake_scores = discriminator(fake_data)\n",
    "            fake_predict = F.softplus(fake_scores).mean()\n",
    "\n",
    "            discriminator_optimizer.zero_grad()\n",
    "            d_loss = real_predict + fake_predict\n",
    "            d_loss.backward()\n",
    "            discriminator_optimizer.step()\n",
    "\n",
    "            # GENERATOR UPDATE\n",
    "            if curr_iter % discriminator_steps == 0:\n",
    "                gen_optimizer.zero_grad()\n",
    "                fake_data = generator.sample(batch_size)\n",
    "                fake_scores = discriminator(fake_data)\n",
    "                # implements Non-saturating GAN loss\n",
    "                g_loss = F.softplus(-fake_scores).mean()\n",
    "                g_loss.backward()\n",
    "                gen_optimizer.step()\n",
    "\n",
    "                batch_loss_history['generator_losses'].append(g_loss.data.cpu().numpy())\n",
    "                batch_loss_history['discriminator_losses'].append(d_loss.data.cpu().numpy())\n",
    "\n",
    "        if visualize_steps and epoch_i % visualize_steps == 0:\n",
    "            print('Epoch {}'.format(epoch_i))\n",
    "            samples, grid, discr_output, discr_grad_norms = make_inference(generator, discriminator)\n",
    "            visualize_GAN_output(samples, train_data, grid, discr_output, discr_grad_norms)\n",
    "\n",
    "    return batch_loss_history"
   ]
  },
  {
   "cell_type": "markdown",
   "id": "0f3247a9-ea1b-44b9-8113-d65b06c546af",
   "metadata": {},
   "source": [
    "`GAN` training"
   ]
  },
  {
   "cell_type": "code",
   "execution_count": 37,
   "id": "0c94e7a8-5aec-4206-8a41-f355111bfca3",
   "metadata": {
    "tags": []
   },
   "outputs": [],
   "source": [
    "# CRITIC_STEPS = 5 => MODE COLLAPSE (SATURATING), NO LEARNING (NOT SATURATING)\n",
    "# CRITIC_STEPS = 1 => NO MODE COLLAPSE \n",
    "reset_seed()\n",
    "BATCH_SIZE = 1024 # any adequate value\n",
    "GEN_HIDDENS = [32, 128, 128, 32] # 4 layers with < 128 neurons would be enough\n",
    "DISCR_HIDDENS = [64, 256, 256, 64] # 4 layers with < 128 neurons would be enough\n",
    "CRITIC_STEPS = 1 # take 1/2\n",
    "LR = 2e-4 # < 1e-2\n",
    "\n",
    "N_EPOCHS = 100 # change it if you want\n",
    "\n",
    "train_loader = data.DataLoader(train_data, batch_size=BATCH_SIZE, shuffle=True)\n",
    "\n",
    "generator = MLPGenerator(16, GEN_HIDDENS, 2).to(DEVICE)\n",
    "discriminator = MLPDiscriminator(2, DISCR_HIDDENS, 1).to(DEVICE)\n",
    "\n",
    "train_losses = train_gan(\n",
    "    generator, \n",
    "    discriminator, \n",
    "    train_loader,\n",
    "    discriminator_steps=CRITIC_STEPS, \n",
    "    batch_size=BATCH_SIZE, \n",
    "    n_epochs=N_EPOCHS,\n",
    "    lr=LR,\n",
    "    visualize_steps=20\n",
    ")\n",
    "\n",
    "plot_losses(train_losses['discriminator_losses'], 'Critic loss')\n",
    "plot_losses(train_losses['generator_losses'], 'Generator loss')"
   ]
  },
  {
   "cell_type": "code",
   "execution_count": 39,
   "id": "1ef90364-1e5c-4648-a841-29e8618a5724",
   "metadata": {
    "tags": []
   },
   "outputs": [],
   "source": [
    "samples, grid, discr_output, discr_grad_norms = make_inference(generator, discriminator)\n",
    "visualize_GAN_output(samples, train_data, grid, discr_output, discr_grad_norms)"
   ]
  },
  {
   "cell_type": "markdown",
   "id": "418cd1f7-df15-4ffa-9eb9-386cefc5c399",
   "metadata": {},
   "source": [
    "**Practical Note**:\n",
    "\n",
    "Use **RMSProp** or **Adam** with $\\beta_1 = 0$ when training your GAN. Large $\\beta_1$ of Adam leads to training instabilities!"
   ]
  },
  {
   "cell_type": "markdown",
   "id": "running-canon",
   "metadata": {},
   "source": [
    "## WGAN\n",
    "\n",
    "[WGAN](https://arxiv.org/abs/1701.07875) model uses weight clipping to enforce Lipschitzness of the critic.\n",
    "\n",
    "The model objective is\n",
    "$$\n",
    "\\min_{G} W(\\pi || p) \\approx \\min_{G} \\max_{\\boldsymbol{\\phi} \\in \\boldsymbol{\\Phi}} \\left[ \\mathbb{E}_{\\pi(\\mathbf{x})} f(\\mathbf{x}, \\boldsymbol{\\phi})  - \\mathbb{E}_{p(\\mathbf{z})} f(G(\\mathbf{z}, \\boldsymbol{\\theta}), \\boldsymbol{\\phi} )\\right].\n",
    "$$\n",
    "Here $f(\\mathbf{x}, \\boldsymbol{\\phi})$ is the critic model. The critic weights $\\boldsymbol{\\phi}$ should lie in the compact set $\\boldsymbol{\\Phi} = [-c, c]^d$."
   ]
  },
  {
   "cell_type": "markdown",
   "id": "satellite-howard",
   "metadata": {},
   "source": [
    "<img src=\"pics/wgan_alg.jpg\" width=800 height=800 />"
   ]
  },
  {
   "cell_type": "markdown",
   "id": "44f55b53-8187-4ad3-acf8-17d4b9a78e34",
   "metadata": {},
   "source": [
    "`WGAN` generator model"
   ]
  },
  {
   "cell_type": "code",
   "execution_count": 13,
   "id": "f468a41c-946d-45e8-bb0a-21e210f67184",
   "metadata": {
    "tags": []
   },
   "outputs": [],
   "source": [
    "class WGAN_MLPGenerator(MLPGenerator):\n",
    "    pass"
   ]
  },
  {
   "cell_type": "markdown",
   "id": "c1307477-e05c-4908-ac87-63bf8dfdf706",
   "metadata": {},
   "source": [
    "`WGAN` discriminator model"
   ]
  },
  {
   "cell_type": "code",
   "execution_count": 15,
   "id": "9fdc4cb6-4a31-41b1-99f1-7b1f776e0279",
   "metadata": {
    "tags": []
   },
   "outputs": [],
   "source": [
    "from wgan import WGAN_MLPCritic"
   ]
  },
  {
   "cell_type": "markdown",
   "id": "679a854a-8843-4d8d-b831-d06c7a37557b",
   "metadata": {},
   "source": [
    "`WGAN` train loop"
   ]
  },
  {
   "cell_type": "code",
   "execution_count": 16,
   "id": "9f836ebe-5dab-4362-af48-1f390ab20d98",
   "metadata": {
    "tags": []
   },
   "outputs": [],
   "source": [
    "from wgan import train_wgan"
   ]
  },
  {
   "cell_type": "markdown",
   "id": "88433d08-458a-40e7-8cd2-4051d61a56ab",
   "metadata": {},
   "source": [
    "Playing with `WGAN`"
   ]
  },
  {
   "cell_type": "code",
   "execution_count": 40,
   "id": "eb449036-46ea-46d8-bea2-888658b62807",
   "metadata": {
    "tags": []
   },
   "outputs": [],
   "source": [
    "reset_seed()\n",
    "BATCH_SIZE = 1024 # any adequate value\n",
    "GEN_HIDDENS = [32, 128, 128, 32] # 4 layers with < 128 neurons would be enough\n",
    "DISCR_HIDDENS = [64, 256, 256, 64] # 4 layers with < 128 neurons would be enough\n",
    "CRITIC_STEPS = 5 # > 2\n",
    "LR = 2e-4 # < 1e-2\n",
    "CLIP_C = 0.05 # < 1\n",
    "\n",
    "N_EPOCHS = 10 # change it if you want\n",
    "\n",
    "train_loader = data.DataLoader(train_data, batch_size=BATCH_SIZE, shuffle=True)\n",
    "\n",
    "generator = WGAN_MLPGenerator(16, GEN_HIDDENS, 2).to(DEVICE)\n",
    "critic = WGAN_MLPCritic(2, DISCR_HIDDENS, 1).to(DEVICE)\n",
    "\n",
    "train_losses = train_wgan(\n",
    "    generator, \n",
    "    critic, \n",
    "    train_loader,\n",
    "    critic_steps=CRITIC_STEPS, \n",
    "    batch_size=BATCH_SIZE, \n",
    "    n_epochs=N_EPOCHS,\n",
    "    lr=LR,\n",
    "    clip_c=CLIP_C,\n",
    "    visualize_steps=1\n",
    ")\n",
    "\n",
    "plot_losses(train_losses['discriminator_losses'], 'Critic loss')\n",
    "plot_losses(train_losses['generator_losses'], 'Generator loss')"
   ]
  },
  {
   "cell_type": "markdown",
   "id": "9aa31334-009f-4ff6-92e7-b3e170b04ff8",
   "metadata": {},
   "source": [
    "`WGAN` training"
   ]
  },
  {
   "cell_type": "code",
   "execution_count": 41,
   "id": "f7c642da-04ac-467c-ac27-ab537342ecef",
   "metadata": {
    "tags": []
   },
   "outputs": [],
   "source": [
    "# CRITIC_STEPS = 5 => more or less learning\n",
    "# CRITIC_STEPS = 1 => no learning\n",
    "\n",
    "reset_seed()\n",
    "BATCH_SIZE = 1024 # any adequate value\n",
    "GEN_HIDDENS = [32, 128, 128, 32] # 4 layers with < 128 neurons would be enough\n",
    "DISCR_HIDDENS = [64, 256, 256, 64] # 4 layers with < 128 neurons would be enough\n",
    "CRITIC_STEPS = 5 # > 2\n",
    "LR = 2e-4 # < 1e-2\n",
    "CLIP_C = 0.05 # < 1\n",
    "\n",
    "N_EPOCHS = 600 # change it if you want\n",
    "\n",
    "train_loader = data.DataLoader(train_data, batch_size=BATCH_SIZE, shuffle=True)\n",
    "\n",
    "generator = WGAN_MLPGenerator(16, GEN_HIDDENS, 2).to(DEVICE)\n",
    "critic = WGAN_MLPCritic(2, DISCR_HIDDENS, 1).to(DEVICE)\n",
    "\n",
    "train_losses = train_wgan(\n",
    "    generator, \n",
    "    critic, \n",
    "    train_loader,\n",
    "    critic_steps=CRITIC_STEPS, \n",
    "    batch_size=BATCH_SIZE, \n",
    "    n_epochs=N_EPOCHS,\n",
    "    lr=LR,\n",
    "    clip_c=CLIP_C,\n",
    "    visualize_steps=50\n",
    ")\n",
    "\n",
    "plot_losses(train_losses['discriminator_losses'], 'Critic loss')\n",
    "plot_losses(train_losses['generator_losses'], 'Generator loss')"
   ]
  },
  {
   "cell_type": "code",
   "execution_count": 42,
   "id": "6f3b28df-1f8b-43e3-822e-d4106576e1a4",
   "metadata": {
    "tags": []
   },
   "outputs": [],
   "source": [
    "samples, grid, critic_output, critic_grad_norms = make_inference(generator, critic)\n",
    "visualize_GAN_output(samples, train_data, grid, critic_output, critic_grad_norms)"
   ]
  },
  {
   "cell_type": "code",
   "execution_count": 43,
   "id": "3132321f-2591-4768-a683-32d03b891c80",
   "metadata": {
    "tags": []
   },
   "outputs": [],
   "source": [
    "params = []\n",
    "for param in critic.parameters():\n",
    "    params.extend(param.detach().cpu().numpy().flatten())\n",
    "plt.hist(params, bins=30)\n",
    "plt.show()"
   ]
  },
  {
   "cell_type": "markdown",
   "id": "compound-lover",
   "metadata": {},
   "source": [
    "## WGAN-GP\n",
    "\n",
    "[WGAN-GP](https://arxiv.org/pdf/1704.00028.pdf)  model uses gradient penalty to enforce Lipschitzness.\n",
    "\n",
    "The model objective is\n",
    "$$\n",
    "    W(\\pi || p) = \\underbrace{\\mathbb{E}_{\\pi(\\mathbf{x})} f(\\mathbf{x})  - \\mathbb{E}_{p(\\mathbf{x} | \\boldsymbol{\\theta})} f(\\mathbf{x})}_{\\text{original critic loss}} + \\lambda \\underbrace{\\mathbb{E}_{U[0, 1]} \\left[ \\left( \\| \\nabla_{\\hat{\\mathbf{x}}} f(\\hat{\\mathbf{x}}) \\|_2 - 1 \\right) ^ 2\\right]}_{\\text{gradient penalty}},\n",
    "$$\n",
    "where the samples $\\hat{\\mathbf{x}}_t = t \\mathbf{x} + (1 - t) \\mathbf{y}$ with $t \\in [0, 1]$ are uniformly sampled along straight lines between pairs of points: $\\mathbf{x}$ from the data distribution $\\pi(\\mathbf{x})$ and $\\mathbf{y}$ from the generator distribution $p(\\mathbf{x} | \\boldsymbol{\\theta}))$."
   ]
  },
  {
   "cell_type": "markdown",
   "id": "meaningful-venezuela",
   "metadata": {},
   "source": [
    "<img src=\"pics/WGAN-GP_theorem.jpg\" width=800 height=800 />"
   ]
  },
  {
   "cell_type": "markdown",
   "id": "collective-liability",
   "metadata": {},
   "source": [
    "<img src=\"pics/wgan-gp_alg.jpg\" width=800 height=800 />"
   ]
  },
  {
   "cell_type": "code",
   "execution_count": 21,
   "id": "d328d369-da60-4c69-9c7d-f9610cb67c94",
   "metadata": {
    "tags": []
   },
   "outputs": [],
   "source": [
    "from wgan_gp import train_wgan_gp"
   ]
  },
  {
   "cell_type": "markdown",
   "id": "d5aa5de8-f5db-476c-936f-9a626cd30766",
   "metadata": {},
   "source": [
    "`WGAN-GP` generator model"
   ]
  },
  {
   "cell_type": "code",
   "execution_count": 22,
   "id": "a372a79f-7224-4e51-9367-d26ec4cc3c4e",
   "metadata": {
    "tags": []
   },
   "outputs": [],
   "source": [
    "class WGANGP_MLPGenerator(MLPGenerator):\n",
    "    pass"
   ]
  },
  {
   "cell_type": "markdown",
   "id": "5fbceb9a-7f28-49da-9bc8-7e2694833bd7",
   "metadata": {},
   "source": [
    "`WGAN-GP` discriminator model"
   ]
  },
  {
   "cell_type": "code",
   "execution_count": 23,
   "id": "475579f1-f95f-4aca-b0e7-4969d3f45861",
   "metadata": {
    "tags": []
   },
   "outputs": [],
   "source": [
    "class WGANGP_MLPCritic(FullyConnectedMLP):\n",
    "    pass"
   ]
  },
  {
   "cell_type": "markdown",
   "id": "e8ad6109-7a03-4441-b7ef-a54cdfce9683",
   "metadata": {},
   "source": [
    "Playing with `WGAN-GP`"
   ]
  },
  {
   "cell_type": "code",
   "execution_count": 44,
   "id": "bac33060-af6b-4216-bbea-8f33f41fdd0f",
   "metadata": {
    "tags": []
   },
   "outputs": [],
   "source": [
    "reset_seed()\n",
    "BATCH_SIZE = 1024 # any adequate value\n",
    "GEN_HIDDENS = [32, 128, 128, 32] # 4 layers with < 128 neurons would be enough\n",
    "DISCR_HIDDENS = [64, 256, 256, 64] # 4 layers with < 128 neurons would be enough\n",
    "CRITIC_STEPS = 5 # > 2\n",
    "LR = 2e-4 # < 1e-2\n",
    "GP_WEIGHT = 10 # > 5\n",
    "\n",
    "N_EPOCHS = 10 # change it if you want\n",
    "\n",
    "train_loader = data.DataLoader(train_data, batch_size=BATCH_SIZE, shuffle=True)\n",
    "\n",
    "generator = WGANGP_MLPGenerator(16, GEN_HIDDENS, 2).to(DEVICE)\n",
    "critic = WGANGP_MLPCritic(2, DISCR_HIDDENS, 1).to(DEVICE)\n",
    "\n",
    "train_losses = train_wgan_gp(\n",
    "    generator, \n",
    "    critic, \n",
    "    train_loader,\n",
    "    critic_steps=CRITIC_STEPS, \n",
    "    batch_size=BATCH_SIZE, \n",
    "    n_epochs=N_EPOCHS,\n",
    "    lr=LR,\n",
    "    gp_weight=GP_WEIGHT,\n",
    "    visualize_steps=1\n",
    ")\n",
    "\n",
    "plot_losses(train_losses['discriminator_losses'], 'Critic loss')\n",
    "plot_losses(train_losses['generator_losses'], 'Generator loss')"
   ]
  },
  {
   "cell_type": "markdown",
   "id": "16b470c4-0ac6-43a6-ae96-9ea48d244d5b",
   "metadata": {},
   "source": [
    "`WGAN-GP` training"
   ]
  },
  {
   "cell_type": "code",
   "execution_count": 45,
   "id": "ca79b741-b5ba-41f2-8703-7693e61b6df4",
   "metadata": {
    "tags": []
   },
   "outputs": [],
   "source": [
    "reset_seed()\n",
    "BATCH_SIZE = 1024 # any adequate value\n",
    "GEN_HIDDENS = [32, 128, 128, 32] # 4 layers with < 128 neurons would be enough\n",
    "DISCR_HIDDENS = [64, 256, 256, 64] # 4 layers with < 128 neurons would be enough\n",
    "CRITIC_STEPS = 5 # > 2\n",
    "LR = 2e-4 # < 1e-2\n",
    "GP_WEIGHT = 10 # > 5\n",
    "\n",
    "N_EPOCHS = 600 # change it if you want\n",
    "\n",
    "train_loader = data.DataLoader(train_data, batch_size=BATCH_SIZE, shuffle=True)\n",
    "\n",
    "generator = WGANGP_MLPGenerator(16, GEN_HIDDENS, 2).to(DEVICE)\n",
    "critic = WGANGP_MLPCritic(2, DISCR_HIDDENS, 1).to(DEVICE)\n",
    "\n",
    "train_losses = train_wgan_gp(\n",
    "    generator, \n",
    "    critic, \n",
    "    train_loader,\n",
    "    critic_steps=CRITIC_STEPS, \n",
    "    batch_size=BATCH_SIZE, \n",
    "    n_epochs=N_EPOCHS,\n",
    "    lr=LR,\n",
    "    gp_weight=GP_WEIGHT,\n",
    "    visualize_steps=50\n",
    ")\n",
    "\n",
    "plot_losses(train_losses['discriminator_losses'], 'Critic loss')\n",
    "plot_losses(train_losses['generator_losses'], 'Generator loss')"
   ]
  },
  {
   "cell_type": "code",
   "execution_count": 46,
   "id": "8f8fb3eb-2ac3-4139-9ae9-3d2d37fa1e9c",
   "metadata": {
    "tags": []
   },
   "outputs": [],
   "source": [
    "samples, grid, critic_output, critic_grad_norms = make_inference(generator, critic)\n",
    "visualize_GAN_output(samples, train_data, grid, critic_output, critic_grad_norms)"
   ]
  },
  {
   "cell_type": "code",
   "execution_count": 48,
   "id": "underlying-indonesia",
   "metadata": {
    "tags": []
   },
   "outputs": [],
   "source": [
    "params = []\n",
    "for param in critic.parameters():\n",
    "    params.extend(param.detach().cpu().numpy().flatten())\n",
    "plt.hist(params, bins=100)\n",
    "plt.show()"
   ]
  },
  {
   "cell_type": "markdown",
   "id": "63156fe5-dcad-4d7d-b694-00b26939cd17",
   "metadata": {},
   "source": [
    "### SNGAN\n",
    "\n",
    "Spectral Normalization GAN [article](https://arxiv.org/pdf/1802.05957.pdf) replaces the weights in the critic $f(\\mathbf{x}, \\boldsymbol{\\phi})$ by \n",
    "$$\n",
    "    \\mathbf{W}^{SN} = \\frac{\\mathbf{W}}{\\|\\mathbf{W}\\|_2}.\n",
    "$$\n",
    "\n",
    "This ensures that $\\| f\\|_L \\leq 1.$.\n",
    "\n",
    "Power iteration method allows to efficiently compute $\\| \\mathbf{W} \\|_2 = \\sqrt{\\lambda_{\\text{max}}(\\mathbf{W}^T \\mathbf{W})}$.\n",
    "    \n",
    "The pseudocode of the method is:\n",
    "* $\\mathbf{u}_0$ -- random vector.\n",
    "* for $k = 0, \\dots, n - 1$: \n",
    "$$\n",
    "    \\mathbf{v}_{k+1} = \\frac{\\mathbf{W}^T \\mathbf{u}_{k}}{\\| \\mathbf{W}^T \\mathbf{u}_{k} \\|}, \\quad \\mathbf{u}_{k+1} = \\frac{\\mathbf{W} \\mathbf{v}_{k+1}}{\\| \\mathbf{W} \\mathbf{v}_{k+1} \\|}.\n",
    "$$\n",
    "* approximate the spectral norm\n",
    "$$\n",
    "    \\| \\mathbf{W} \\|_2 = \\sqrt{\\lambda_{\\text{max}}(\\mathbf{W}^T \\mathbf{W})} \\approx \\mathbf{u}_{n}^T \\mathbf{W} \\mathbf{v}_{n}.\n",
    "$$\n"
   ]
  },
  {
   "cell_type": "code",
   "execution_count": 28,
   "id": "79167eb3-7a90-4bcb-a8ae-4993d628b69c",
   "metadata": {
    "tags": []
   },
   "outputs": [],
   "source": [
    "from sngan import train_sngan, SNFullyConnectedMLP"
   ]
  },
  {
   "cell_type": "markdown",
   "id": "b9979822-1168-4612-b15c-efcf464b6c48",
   "metadata": {},
   "source": [
    "`SNGAN` generator model"
   ]
  },
  {
   "cell_type": "code",
   "execution_count": 29,
   "id": "640160f9-0841-4aa2-aa19-0a477ab3ef9d",
   "metadata": {
    "tags": []
   },
   "outputs": [],
   "source": [
    "class SNGAN_MLPGenerator(MLPGenerator):\n",
    "    pass"
   ]
  },
  {
   "cell_type": "markdown",
   "id": "84bfdf1d-0cf4-46c0-bbea-0b69e3cf2e7c",
   "metadata": {},
   "source": [
    "`SNGAN` discriminator model"
   ]
  },
  {
   "cell_type": "code",
   "execution_count": 30,
   "id": "fa2f477e-5609-4763-b1b5-e356a0647881",
   "metadata": {
    "tags": []
   },
   "outputs": [],
   "source": [
    "class SNMLPCritic(SNFullyConnectedMLP):\n",
    "    pass"
   ]
  },
  {
   "cell_type": "markdown",
   "id": "02c0cf3e-816a-4167-a6e3-a41177532726",
   "metadata": {},
   "source": [
    "Playing with `SNGAN`"
   ]
  },
  {
   "cell_type": "code",
   "execution_count": 49,
   "id": "51840c0b-6006-4628-9f20-9e5aef02e889",
   "metadata": {
    "tags": []
   },
   "outputs": [],
   "source": [
    "reset_seed()\n",
    "BATCH_SIZE = 1024 # any adequate value\n",
    "GEN_HIDDENS = [32, 128, 128, 32] # 4 layers with < 128 neurons would be enough\n",
    "DISCR_HIDDENS = [64, 256, 256, 64] # 4 layers with < 128 neurons would be enough\n",
    "CRITIC_STEPS = 5 # > 2\n",
    "LR = 2e-4 # < 1e-2\n",
    "\n",
    "N_EPOCHS = 20 # change it if you want\n",
    "\n",
    "train_loader = data.DataLoader(train_data, batch_size=BATCH_SIZE, shuffle=True)\n",
    "\n",
    "generator = MLPGenerator(16, GEN_HIDDENS, 2).to(DEVICE)\n",
    "critic = SNMLPCritic(2, DISCR_HIDDENS, 1, power_iterations=2).to(DEVICE)\n",
    "\n",
    "train_losses = train_sngan(\n",
    "    generator, \n",
    "    critic, \n",
    "    train_loader,\n",
    "    critic_steps=CRITIC_STEPS, \n",
    "    batch_size=BATCH_SIZE, \n",
    "    n_epochs=N_EPOCHS,\n",
    "    lr=LR,\n",
    "    visualize_steps=1\n",
    ")\n",
    "\n",
    "plot_losses(train_losses['discriminator_losses'], 'Critic loss')\n",
    "plot_losses(train_losses['generator_losses'], 'Generator loss')"
   ]
  },
  {
   "cell_type": "markdown",
   "id": "ab9b2891-ed70-4b53-8cfb-aa7270c1c5c5",
   "metadata": {},
   "source": [
    "`SNGAN` training"
   ]
  },
  {
   "cell_type": "code",
   "execution_count": 50,
   "id": "d4d2666f-bef0-4138-920e-2845c0644bb8",
   "metadata": {
    "tags": []
   },
   "outputs": [],
   "source": [
    "reset_seed()\n",
    "BATCH_SIZE = 1024 # any adequate value\n",
    "GEN_HIDDENS = [32, 128, 128, 32] # 4 layers with < 128 neurons would be enough\n",
    "DISCR_HIDDENS = [64, 256, 256, 64] # 4 layers with < 128 neurons would be enough\n",
    "CRITIC_STEPS = 5 # > 2\n",
    "LR = 2e-4 # < 1e-2\n",
    "\n",
    "N_EPOCHS = 600 # change it if you want\n",
    "\n",
    "train_loader = data.DataLoader(train_data, batch_size=BATCH_SIZE, shuffle=True)\n",
    "\n",
    "generator = MLPGenerator(16, GEN_HIDDENS, 2).to(DEVICE)\n",
    "critic = SNMLPCritic(2, DISCR_HIDDENS, 1, power_iterations=1).to(DEVICE)\n",
    "\n",
    "train_losses = train_sngan(\n",
    "    generator, \n",
    "    critic, \n",
    "    train_loader,\n",
    "    critic_steps=CRITIC_STEPS, \n",
    "    batch_size=BATCH_SIZE, \n",
    "    n_epochs=N_EPOCHS,\n",
    "    lr=LR,\n",
    "    visualize_steps=50\n",
    ")\n",
    "\n",
    "plot_losses(train_losses['discriminator_losses'], 'Critic loss')\n",
    "plot_losses(train_losses['generator_losses'], 'Generator loss')"
   ]
  },
  {
   "cell_type": "code",
   "execution_count": 51,
   "id": "a7e4ea5c-758d-45b4-bd56-452004576956",
   "metadata": {
    "tags": []
   },
   "outputs": [],
   "source": [
    "params = []\n",
    "for param in critic.parameters():\n",
    "    params.extend(param.detach().cpu().numpy().flatten())\n",
    "plt.hist(params, bins=100)\n",
    "plt.show()"
   ]
  },
  {
   "cell_type": "markdown",
   "id": "9d435450-3a03-42e5-8d9c-5a267a29d816",
   "metadata": {},
   "source": [
    "## Your questions regarding the homework"
   ]
  },
  {
   "cell_type": "markdown",
   "id": "63f28876-ac3d-4cfa-a1dd-262526e84cdb",
   "metadata": {},
   "source": [
    "## GANs zoo\n",
    "\n",
    "### Losses\n",
    "\n",
    "- Vanilla GAN\n",
    "\n",
    "    <img src=\"pics/gan_objective.jpg\" width=800 height=800 />\n",
    "\n",
    "    - Nonsaturating Vanilla GAN\n",
    "\n",
    "- Wassersteing GAN \n",
    "\n",
    "    <img src=\"pics/WGAN_obj.jpg\" width=800 height=800 />\n",
    "    \n",
    "    - WGAN-GP\n",
    "\n",
    "- IPM GAN \n",
    "\n",
    "    **IPM** (Integral Probability Metric):\n",
    "    \n",
    "    $$\n",
    "    \\gamma_{\\mathcal{F}}(\\mathbb{P}, \\mathbb{Q}) = \\sup\\limits_{f \\in \\mathcal{F}} \\left\\vert \\int f d \\mathbb{P} - \\int f d \\mathbb{Q} \\right\\vert,\n",
    "    $$ \n",
    "    see [Sriperumbudur et. al.](https://arxiv.org/pdf/0901.2698.pdf) for the details on IPM metric.\n",
    "    \n",
    "    see [Mroueh et. al.](https://arxiv.org/pdf/1711.04894.pdf) for the examples of IPM GANs.\n",
    "    \n",
    "    \n",
    "- GAN with Hinge loss\n",
    "\n",
    "    <img src=\"pics/hinge_loss_GAN.png\" width=800 height=800 />\n",
    "\n",
    "- fGAN \n",
    "\n",
    "    <img src=\"pics/fgan_loss.png\" width=800 height=800 />\n",
    "    \n",
    "    * **Question:** By which parameter we maximize, and by which we minimize?\n",
    "    \n",
    "    * **Takehome question:** How to cast fGAN-loss as generalized GAN loss $V(D, G) = \\mathbb{E}_{p_{\\text{data}}} g(D(x)) + \\mathbb{E}_{p_z} g(-D(G(z)))$?\n",
    "    \n",
    "- ...\n",
    "\n",
    "### Regularizations\n",
    "\n",
    "- Weight clipping, Gradient penalty in WGAN\n",
    "\n",
    "- Spectral Normalization (for general GAN architectures)\n",
    "\n",
    "- $R_1$, $R_2$, $R_3$ regularizations (penalize discriminator gradients) [paper](https://arxiv.org/pdf/1801.04406.pdf), [paper2](https://arxiv.org/pdf/1705.09367.pdf)\n",
    "\n",
    "- Improved techniques for training GANs [paper](https://arxiv.org/pdf/1606.03498.pdf)\n",
    "\n",
    "- Orthogonal regularization [paper](https://arxiv.org/pdf/1809.11096.pdf)\n",
    "\n",
    "    <img src=\"pics/ortho_reg.png\" width=400 height=800 />\n",
    "\n",
    "- ..."
   ]
  },
  {
   "cell_type": "code",
   "execution_count": null,
   "id": "9a25efd0-36eb-48f1-bbb8-2558b06a33de",
   "metadata": {},
   "outputs": [],
   "source": []
  }
 ],
 "metadata": {
  "kernelspec": {
   "display_name": "Python 3 (ipykernel)",
   "language": "python",
   "name": "python3"
  },
  "language_info": {
   "codemirror_mode": {
    "name": "ipython",
    "version": 3
   },
   "file_extension": ".py",
   "mimetype": "text/x-python",
   "name": "python",
   "nbconvert_exporter": "python",
   "pygments_lexer": "ipython3",
   "version": "3.8.16"
  }
 },
 "nbformat": 4,
 "nbformat_minor": 5
}
